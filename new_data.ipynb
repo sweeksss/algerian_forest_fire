{
 "cells": [
  {
   "cell_type": "code",
   "execution_count": 8,
   "metadata": {},
   "outputs": [
    {
     "name": "stdout",
     "output_type": "stream",
     "text": [
      "   Temperature    RH    Ws      Rain       FFMC        DMC         DC  \\\n",
      "0         35.0  50.0  10.0  6.417768  87.802082   4.130048  36.364518   \n",
      "1         39.0  79.0  26.0  4.990923  57.175475   1.163371  32.349939   \n",
      "2         22.0  86.0  13.0  8.431865  40.384547   6.337522  17.702516   \n",
      "3         31.0  89.0  28.0  7.219056  60.510607   1.477057  25.796488   \n",
      "4         39.0  71.0  25.0  8.247588  67.915339  14.689858  11.100138   \n",
      "\n",
      "        ISI        BUI  Region  Classes_encoded  \n",
      "0  4.922005   9.120517     0.0              0.0  \n",
      "1  2.376874   7.979981     1.0              0.0  \n",
      "2  2.690692   9.941913     0.0              1.0  \n",
      "3  4.642323   2.358892     1.0              0.0  \n",
      "4  4.936803  11.840099     1.0              1.0  \n"
     ]
    }
   ],
   "source": [
    "import pandas as pd\n",
    "import numpy as np\n",
    "import pickle\n",
    "\n",
    "# Define the size of the dataset\n",
    "num_samples = 5\n",
    "\n",
    "# Generate random data\n",
    "Temperature = np.random.randint(20, 40, size=num_samples)\n",
    "RH = np.random.randint(50, 90, size=num_samples)\n",
    "Ws = np.random.randint(10, 30, size=num_samples)\n",
    "Rain = np.random.uniform(0, 15, size=num_samples)\n",
    "FFMC = np.random.uniform(40, 90, size=num_samples)\n",
    "DMC = np.random.uniform(1, 20, size=num_samples)\n",
    "DC = np.random.uniform(5, 50, size=num_samples)\n",
    "ISI = np.random.uniform(0, 5, size=num_samples)\n",
    "BUI = np.random.uniform(1, 20, size=num_samples)\n",
    "FWI = np.random.uniform(0, 5, size=num_samples)\n",
    "Region = np.random.randint(0, 2, size=num_samples)\n",
    "Classes_encoded = np.random.randint(0, 2, size=num_samples)\n",
    "\n",
    "# Create a DataFrame\n",
    "df = pd.DataFrame({\n",
    "    'Temperature': Temperature,\n",
    "    'RH': RH,\n",
    "    'Ws': Ws,\n",
    "    'Rain': Rain,\n",
    "    'FFMC': FFMC,\n",
    "    'DMC': DMC,\n",
    "    'DC': DC,\n",
    "    'ISI': ISI,\n",
    "    'BUI': BUI,\n",
    "    'Region': Region,\n",
    "    'Classes_encoded': Classes_encoded\n",
    "})\n",
    "\n",
    "df = df.astype(float)\n",
    "\n",
    "# Display the first few rows of the DataFrame\n",
    "print(df.head())\n"
   ]
  },
  {
   "cell_type": "code",
   "execution_count": 9,
   "metadata": {},
   "outputs": [],
   "source": [
    "scale_new_data = pickle.load(open('scaler.pkl', 'rb'))\n",
    "lr_model = pickle.load(open('lr_fire.pkl', 'rb'))\n"
   ]
  },
  {
   "cell_type": "code",
   "execution_count": 10,
   "metadata": {},
   "outputs": [],
   "source": [
    "df_scaled = scale_new_data.transform(df)"
   ]
  },
  {
   "cell_type": "code",
   "execution_count": 11,
   "metadata": {},
   "outputs": [
    {
     "data": {
      "text/plain": [
       "array([3.84268421, 2.98905214, 4.8838946 , 3.94338094, 6.52267672])"
      ]
     },
     "execution_count": 11,
     "metadata": {},
     "output_type": "execute_result"
    }
   ],
   "source": [
    "y_pred_new = lr_model.predict(df_scaled)\n",
    "y_pred_new"
   ]
  }
 ],
 "metadata": {
  "kernelspec": {
   "display_name": "Python 3",
   "language": "python",
   "name": "python3"
  },
  "language_info": {
   "codemirror_mode": {
    "name": "ipython",
    "version": 3
   },
   "file_extension": ".py",
   "mimetype": "text/x-python",
   "name": "python",
   "nbconvert_exporter": "python",
   "pygments_lexer": "ipython3",
   "version": "3.12.1"
  }
 },
 "nbformat": 4,
 "nbformat_minor": 2
}
